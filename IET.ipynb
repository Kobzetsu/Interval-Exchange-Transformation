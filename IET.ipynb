{
 "cells": [
  {
   "cell_type": "code",
   "execution_count": 1,
   "id": "b857b320",
   "metadata": {},
   "outputs": [],
   "source": [
    "import numpy as np"
   ]
  },
  {
   "cell_type": "code",
   "execution_count": 2,
   "id": "31e28582",
   "metadata": {},
   "outputs": [],
   "source": [
    "def pi(k, D, j1, N):\n",
    "    a = len(N)\n",
    "    J=[j1]\n",
    "    for i in range(a):\n",
    "        j_2 = J[i] + N[i]\n",
    "        J.append(j_2)\n",
    "    if k == 1:\n",
    "        k2 = D[-1]\n",
    "    elif k == D[-1]:\n",
    "        k2 = 1\n",
    "    else:\n",
    "        for i in range(a):\n",
    "            if (k >= J[i])&(k < J[i] + N[i]):\n",
    "                j_a = J[i]\n",
    "                n_a = N[i]\n",
    "                break\n",
    "        k2 = 2*j_a + n_a - 1 - k\n",
    "    return k2"
   ]
  },
  {
   "cell_type": "code",
   "execution_count": 3,
   "id": "7ce77f00",
   "metadata": {},
   "outputs": [
    {
     "data": {
      "text/plain": [
       "5"
      ]
     },
     "execution_count": 3,
     "metadata": {},
     "output_type": "execute_result"
    }
   ],
   "source": [
    "pi(\n",
    "    4\n",
    "    , D=[1,2,3,4,5,6]\n",
    "    , j1 = 2\n",
    "    , N=[2,2]\n",
    ")"
   ]
  },
  {
   "cell_type": "code",
   "execution_count": 4,
   "id": "9a6e6dcd",
   "metadata": {},
   "outputs": [],
   "source": [
    "def permutation(l, j1, N):\n",
    "    D = spisok(l)\n",
    "    D2 = []\n",
    "    for el in D:\n",
    "        D2.append(pi(el, D, j1, N))\n",
    "    return D, D2"
   ]
  },
  {
   "cell_type": "code",
   "execution_count": 5,
   "id": "21fae21d",
   "metadata": {},
   "outputs": [],
   "source": [
    "def spisok(l):\n",
    "    L=[]\n",
    "    for i in range(1, l+1):\n",
    "        L.append(i)\n",
    "    return L"
   ]
  },
  {
   "cell_type": "code",
   "execution_count": 6,
   "id": "2f83cc11",
   "metadata": {},
   "outputs": [
    {
     "name": "stdout",
     "output_type": "stream",
     "text": [
      "[1, 2, 3, 4, 5, 6, 7]\n",
      "[7, 3, 2, 6, 5, 4, 1]\n"
     ]
    }
   ],
   "source": [
    "for i in permutation(\n",
    "    l=7\n",
    "    , j1=2\n",
    "    , N=[2,3]):\n",
    "    print(i)"
   ]
  },
  {
   "cell_type": "code",
   "execution_count": 7,
   "id": "5a98e6e4",
   "metadata": {},
   "outputs": [],
   "source": [
    "perm = permutation(\n",
    "    l=7\n",
    "    , j1=2\n",
    "    , N=[2,3])"
   ]
  },
  {
   "cell_type": "code",
   "execution_count": 8,
   "id": "9e8a5cca",
   "metadata": {},
   "outputs": [
    {
     "data": {
      "text/plain": [
       "([1, 2, 3, 4, 5, 6, 7], [7, 3, 2, 6, 5, 4, 1])"
      ]
     },
     "execution_count": 8,
     "metadata": {},
     "output_type": "execute_result"
    }
   ],
   "source": [
    "perm"
   ]
  },
  {
   "cell_type": "code",
   "execution_count": 9,
   "id": "8d56663a",
   "metadata": {},
   "outputs": [],
   "source": [
    "p = perm[1][:-1]\n",
    "#p.insert(1, 7)"
   ]
  },
  {
   "cell_type": "code",
   "execution_count": 10,
   "id": "78a3b193",
   "metadata": {},
   "outputs": [
    {
     "data": {
      "text/plain": [
       "7"
      ]
     },
     "execution_count": 10,
     "metadata": {},
     "output_type": "execute_result"
    }
   ],
   "source": [
    "perm[0][-1]"
   ]
  },
  {
   "cell_type": "code",
   "execution_count": 11,
   "id": "35812e43",
   "metadata": {},
   "outputs": [
    {
     "data": {
      "text/plain": [
       "0"
      ]
     },
     "execution_count": 11,
     "metadata": {},
     "output_type": "execute_result"
    }
   ],
   "source": [
    "perm[1][:-1].index(perm[0][-1])"
   ]
  },
  {
   "cell_type": "code",
   "execution_count": 12,
   "id": "369d1e50",
   "metadata": {},
   "outputs": [
    {
     "data": {
      "text/plain": [
       "[7, 3, 2, 6, 5, 4]"
      ]
     },
     "execution_count": 12,
     "metadata": {},
     "output_type": "execute_result"
    }
   ],
   "source": [
    "p"
   ]
  },
  {
   "cell_type": "code",
   "execution_count": 13,
   "id": "107a1d47",
   "metadata": {},
   "outputs": [],
   "source": [
    "def move1(perm):\n",
    "    p = perm[0][:-1]\n",
    "    i = perm[0][:-1].index(perm[1][-1])\n",
    "    p.insert(i+1, perm[0][-1])\n",
    "    return p, perm[1]"
   ]
  },
  {
   "cell_type": "code",
   "execution_count": 14,
   "id": "d3345196",
   "metadata": {},
   "outputs": [],
   "source": [
    "def move0(perm):\n",
    "    p = perm[1][:-1]\n",
    "    i = perm[1][:-1].index(perm[0][-1])\n",
    "    p.insert(i+1, perm[1][-1])\n",
    "    return perm[0], p"
   ]
  },
  {
   "cell_type": "code",
   "execution_count": 15,
   "id": "58b21daf",
   "metadata": {},
   "outputs": [],
   "source": [
    "def MoveR(perm, path):\n",
    "    nmove = [int(x) for x in path]\n",
    "    for i in nmove:\n",
    "        if i == 0:\n",
    "            perm = move0(perm)\n",
    "        if i == 1:\n",
    "            perm = move1(perm)\n",
    "    return perm"
   ]
  },
  {
   "cell_type": "code",
   "execution_count": 16,
   "id": "33a4aaa5",
   "metadata": {},
   "outputs": [
    {
     "data": {
      "text/plain": [
       "array([[1, 2, 3, 4, 5, 6, 7],\n",
       "       [7, 3, 2, 6, 5, 4, 1]])"
      ]
     },
     "execution_count": 16,
     "metadata": {},
     "output_type": "execute_result"
    }
   ],
   "source": [
    "np.array(\n",
    "    perm\n",
    ")"
   ]
  },
  {
   "cell_type": "code",
   "execution_count": 17,
   "id": "bdde65fa",
   "metadata": {},
   "outputs": [
    {
     "data": {
      "text/plain": [
       "array([[1, 2, 3, 4, 5, 6, 7],\n",
       "       [7, 6, 5, 4, 1, 3, 2]])"
      ]
     },
     "execution_count": 17,
     "metadata": {},
     "output_type": "execute_result"
    }
   ],
   "source": [
    "np.array(\n",
    "    MoveR(perm, '0111000')\n",
    ")"
   ]
  },
  {
   "cell_type": "code",
   "execution_count": 18,
   "id": "2da498a5",
   "metadata": {},
   "outputs": [
    {
     "data": {
      "text/plain": [
       "array([[1, 2, 3, 4, 6, 7, 5],\n",
       "       [7, 1, 3, 2, 6, 5, 4]])"
      ]
     },
     "execution_count": 18,
     "metadata": {},
     "output_type": "execute_result"
    }
   ],
   "source": [
    "np.array(move1(move1(move0(perm))))"
   ]
  },
  {
   "cell_type": "code",
   "execution_count": 19,
   "id": "52c67dba",
   "metadata": {},
   "outputs": [
    {
     "data": {
      "text/plain": [
       "[0, 1, 1, 0, 0, 0]"
      ]
     },
     "execution_count": 19,
     "metadata": {},
     "output_type": "execute_result"
    }
   ],
   "source": [
    "[int(x) for x in '011000']"
   ]
  },
  {
   "cell_type": "code",
   "execution_count": null,
   "id": "7240f49f",
   "metadata": {},
   "outputs": [],
   "source": []
  },
  {
   "cell_type": "code",
   "execution_count": 20,
   "id": "25ca25f6",
   "metadata": {},
   "outputs": [],
   "source": [
    "def MMatrix1(perm, Mat=np.eye(3)):\n",
    "    Mat[perm[1][-1]-1, perm[0][-1]-1] += 1\n",
    "    return Mat\n",
    "\n",
    "def MMatrix0(perm, Mat=np.eye(3)):\n",
    "    Mat[perm[0][-1]-1, perm[1][-1]-1] += 1\n",
    "    return Mat\n",
    "\n",
    "def MMatrixN(perm, path, Mat=np.eye(3)):\n",
    "    nmove = [int(x) for x in path]\n",
    "    for i in nmove:\n",
    "        if i == 0:\n",
    "            Mat = MMatrix0(perm, Mat)\n",
    "            perm = move0(perm)\n",
    "        if i == 1:\n",
    "            Mat = MMatrix1(perm, Mat)\n",
    "            perm = move1(perm)\n",
    "    return Mat, perm\n",
    "\n",
    "def MMatrixR(perm, path, Mat=np.eye(3)):\n",
    "    nmove = [int(x) for x in path+'9']\n",
    "    list_path\n",
    "    for i in range(1,len(nmove)+1):\n",
    "        list_subpath\n",
    "        print(i-1, nmove[i-1])\n",
    "        if nmove[i-1] == nmove[i]:\n",
    "            li\n",
    "        \n",
    "        if nmove[i-1] != nmove[i]:\n",
    "            \n",
    "            print('neq')\n",
    "        \n"
   ]
  },
  {
   "cell_type": "code",
   "execution_count": 21,
   "id": "f4f39363",
   "metadata": {},
   "outputs": [],
   "source": [
    "def MMatrixR(perm, path, Mat=np.eye(3)):\n",
    "    path+='9'\n",
    "    list_path=[]\n",
    "    list_subpath=[]\n",
    "    l=''\n",
    "    for i in range(1,len(path)):\n",
    "        l+=path[i-1]\n",
    "        #print(l)\n",
    "        #print(path[i])\n",
    "        if path[i] == '9':\n",
    "            list_path.append(l)\n",
    "            \n",
    "        elif path[i-1] != path[i]:\n",
    "            list_path.append(l)\n",
    "            l=''\n",
    "    #print(list_path)\n",
    "    Mat_t = Mat.copy()\n",
    "    for sp in list_path:\n",
    "        Mat_new, perm = MMatrixN(perm, sp, Mat.copy())\n",
    "        #print(Mat_t)\n",
    "        #print(Mat_new)\n",
    "        Mat_t = Mat_t@Mat_new\n",
    "    return Mat_t\n",
    "        \n",
    "        "
   ]
  },
  {
   "cell_type": "code",
   "execution_count": 22,
   "id": "1c7f6356",
   "metadata": {},
   "outputs": [
    {
     "data": {
      "text/plain": [
       "array([[1., 0., 0., 0., 0., 0., 0.],\n",
       "       [0., 1., 0., 0., 0., 0., 0.],\n",
       "       [0., 0., 1., 0., 0., 0., 0.],\n",
       "       [0., 0., 0., 2., 2., 2., 1.],\n",
       "       [0., 0., 0., 5., 6., 0., 0.],\n",
       "       [0., 0., 0., 0., 0., 1., 0.],\n",
       "       [1., 0., 0., 1., 1., 1., 1.]])"
      ]
     },
     "execution_count": 22,
     "metadata": {},
     "output_type": "execute_result"
    }
   ],
   "source": [
    "MMatrixR(perm, '011000001000', np.eye(7))"
   ]
  },
  {
   "cell_type": "code",
   "execution_count": 23,
   "id": "818c33bf",
   "metadata": {},
   "outputs": [],
   "source": [
    "gamma_0='0'\n",
    "gamma_1_a='11000001000'\n",
    "gamma_2_a='111100000100'\n",
    "gamma_3_c='111111'*8"
   ]
  },
  {
   "cell_type": "code",
   "execution_count": 24,
   "id": "fc37607f",
   "metadata": {},
   "outputs": [
    {
     "name": "stdout",
     "output_type": "stream",
     "text": [
      "[[1 2 3 4 5 6 7]\n",
      " [7 3 2 6 5 4 1]]\n",
      "\n",
      "[[1 2 3 4 5 6 7]\n",
      " [7 1 3 2 6 5 4]]\n",
      "\n",
      "[[1 2 3 4 5 6 7]\n",
      " [7 6 5 4 1 3 2]]\n",
      "\n",
      "[[1 2 3 4 5 6 7]\n",
      " [7 3 2 6 5 4 1]]\n"
     ]
    }
   ],
   "source": [
    "perm2=MoveR(perm, gamma_0)\n",
    "perm3=MoveR(perm2, gamma_1_a)\n",
    "perm4=MoveR(perm3, gamma_2_a)\n",
    "print(np.array(perm))\n",
    "print('')\n",
    "print(np.array(perm2))\n",
    "print('')\n",
    "print(np.array(perm3))\n",
    "print('')\n",
    "print(np.array(perm4))"
   ]
  },
  {
   "cell_type": "code",
   "execution_count": 25,
   "id": "fac504d4",
   "metadata": {},
   "outputs": [
    {
     "name": "stdout",
     "output_type": "stream",
     "text": [
      "[[1. 0. 0. 0. 0. 0. 0.]\n",
      " [0. 1. 0. 0. 0. 0. 0.]\n",
      " [0. 0. 1. 0. 0. 0. 0.]\n",
      " [0. 0. 0. 1. 0. 0. 0.]\n",
      " [0. 0. 0. 0. 1. 0. 0.]\n",
      " [0. 0. 0. 0. 0. 1. 0.]\n",
      " [1. 0. 0. 0. 0. 0. 1.]]\n",
      "\n",
      "[[1. 0. 0. 0. 0. 0. 0.]\n",
      " [0. 1. 0. 0. 0. 0. 0.]\n",
      " [0. 0. 1. 0. 0. 0. 0.]\n",
      " [0. 0. 0. 2. 2. 2. 1.]\n",
      " [0. 0. 0. 5. 6. 0. 0.]\n",
      " [0. 0. 0. 0. 0. 1. 0.]\n",
      " [0. 0. 0. 1. 1. 1. 1.]]\n",
      "\n",
      "[[1. 0. 0. 0. 0. 0. 0.]\n",
      " [0. 2. 2. 1. 1. 1. 1.]\n",
      " [0. 5. 6. 0. 0. 0. 0.]\n",
      " [0. 0. 0. 1. 0. 0. 0.]\n",
      " [0. 0. 0. 0. 1. 0. 0.]\n",
      " [0. 0. 0. 0. 0. 1. 0.]\n",
      " [0. 1. 1. 0. 0. 0. 1.]]\n",
      "\n",
      "[[1. 8. 8. 8. 8. 8. 8.]\n",
      " [0. 1. 0. 0. 0. 0. 0.]\n",
      " [0. 0. 1. 0. 0. 0. 0.]\n",
      " [0. 0. 0. 1. 0. 0. 0.]\n",
      " [0. 0. 0. 0. 1. 0. 0.]\n",
      " [0. 0. 0. 0. 0. 1. 0.]\n",
      " [0. 0. 0. 0. 0. 0. 1.]]\n"
     ]
    }
   ],
   "source": [
    "Delta_0=MMatrixR(perm, gamma_0, np.eye(7))\n",
    "Delta_1_a=MMatrixR(perm2, gamma_1_a, np.eye(7))\n",
    "Delta_2_a=MMatrixR(perm3, gamma_2_a, np.eye(7))\n",
    "Delta_3_c=MMatrixR(perm4, gamma_3_c, np.eye(7))\n",
    "\n",
    "print(np.array(Delta_0))\n",
    "print('')\n",
    "print(np.array(Delta_1_a))\n",
    "print('')\n",
    "print(np.array(Delta_2_a))\n",
    "print('')\n",
    "print(np.array(Delta_3_c))"
   ]
  },
  {
   "cell_type": "code",
   "execution_count": 26,
   "id": "6ce2bea2",
   "metadata": {},
   "outputs": [
    {
     "data": {
      "text/plain": [
       "array([[1., 8., 8., 8., 8., 8., 8.],\n",
       "       [0., 2., 2., 1., 1., 1., 1.],\n",
       "       [0., 5., 6., 0., 0., 0., 0.],\n",
       "       [0., 1., 1., 2., 2., 2., 1.],\n",
       "       [0., 0., 0., 5., 6., 0., 0.],\n",
       "       [0., 0., 0., 0., 0., 1., 0.],\n",
       "       [1., 9., 9., 9., 9., 9., 9.]])"
      ]
     },
     "execution_count": 26,
     "metadata": {},
     "output_type": "execute_result"
    }
   ],
   "source": [
    "Delta_0@Delta_1_a@Delta_2_a@Delta_3_c"
   ]
  },
  {
   "cell_type": "markdown",
   "id": "765e6fd7",
   "metadata": {},
   "source": [
    "# perm_6_1"
   ]
  },
  {
   "cell_type": "code",
   "execution_count": 27,
   "id": "a45019d8",
   "metadata": {},
   "outputs": [],
   "source": [
    "gamma_0='0'\n",
    "gamma_1_a='11000001000'"
   ]
  },
  {
   "cell_type": "code",
   "execution_count": 28,
   "id": "86ebe024",
   "metadata": {},
   "outputs": [],
   "source": [
    "p11=[\n",
    "    [1,2,3,4,5,6],\n",
    "    [6,5,4,3,2,1]\n",
    "]"
   ]
  },
  {
   "cell_type": "code",
   "execution_count": 29,
   "id": "44ffae53",
   "metadata": {
    "scrolled": true
   },
   "outputs": [
    {
     "name": "stdout",
     "output_type": "stream",
     "text": [
      "[[1 2 3 4 5 6]\n",
      " [6 1 5 4 3 2]]\n"
     ]
    }
   ],
   "source": [
    "p12=MoveR(p11, gamma_0)\n",
    "print(np.array(p12))"
   ]
  },
  {
   "cell_type": "code",
   "execution_count": 30,
   "id": "c9f694f1",
   "metadata": {},
   "outputs": [
    {
     "data": {
      "text/plain": [
       "array([[1., 0., 0., 0., 0., 0.],\n",
       "       [0., 1., 0., 0., 0., 0.],\n",
       "       [0., 0., 1., 0., 0., 0.],\n",
       "       [0., 0., 0., 1., 0., 0.],\n",
       "       [0., 0., 0., 0., 1., 0.],\n",
       "       [1., 0., 0., 0., 0., 1.]])"
      ]
     },
     "execution_count": 30,
     "metadata": {},
     "output_type": "execute_result"
    }
   ],
   "source": [
    "D1 = MMatrixR(p11, gamma_0, np.eye(6)) #Delta_gamma_0\n",
    "D1"
   ]
  },
  {
   "cell_type": "code",
   "execution_count": 31,
   "id": "0b2a53c8",
   "metadata": {},
   "outputs": [
    {
     "name": "stdout",
     "output_type": "stream",
     "text": [
      "[[1 2 3 4 5 6]\n",
      " [6 5 4 3 2 1]]\n"
     ]
    }
   ],
   "source": [
    "p13=MoveR(p12, '100'+'1'*5+'011'+'0'*8+'10000')\n",
    "print(np.array(p13)) #perm_gamma_1_a_b"
   ]
  },
  {
   "cell_type": "code",
   "execution_count": 32,
   "id": "9c3f61a7",
   "metadata": {},
   "outputs": [
    {
     "data": {
      "text/plain": [
       "array([[ 1.,  0.,  0.,  0.,  0.,  0.],\n",
       "       [ 0.,  2.,  2.,  2.,  2.,  1.],\n",
       "       [ 0.,  8.,  9.,  0.,  0.,  0.],\n",
       "       [ 0.,  0.,  0.,  6.,  5.,  0.],\n",
       "       [ 0.,  9., 10.,  2.,  2.,  0.],\n",
       "       [ 0.,  1.,  1.,  1.,  1.,  1.]])"
      ]
     },
     "execution_count": 32,
     "metadata": {},
     "output_type": "execute_result"
    }
   ],
   "source": [
    "D2 = MMatrixR(p12, '100'+'1'*5+'011'+'0'*8+'10000', np.eye(6)) #Delta_gamma_1_a_b\n",
    "D2"
   ]
  },
  {
   "cell_type": "code",
   "execution_count": 33,
   "id": "36fb0a88",
   "metadata": {},
   "outputs": [
    {
     "name": "stdout",
     "output_type": "stream",
     "text": [
      "[[1 2 3 4 5 6]\n",
      " [6 5 4 3 2 1]]\n"
     ]
    }
   ],
   "source": [
    "print(np.array(MoveR(p13, '1'*5*11)))"
   ]
  },
  {
   "cell_type": "code",
   "execution_count": 34,
   "id": "ffb1e29c",
   "metadata": {},
   "outputs": [
    {
     "data": {
      "text/plain": [
       "array([[ 1., 11., 11., 11., 11., 11.],\n",
       "       [ 0.,  1.,  0.,  0.,  0.,  0.],\n",
       "       [ 0.,  0.,  1.,  0.,  0.,  0.],\n",
       "       [ 0.,  0.,  0.,  1.,  0.,  0.],\n",
       "       [ 0.,  0.,  0.,  0.,  1.,  0.],\n",
       "       [ 0.,  0.,  0.,  0.,  0.,  1.]])"
      ]
     },
     "execution_count": 34,
     "metadata": {},
     "output_type": "execute_result"
    }
   ],
   "source": [
    "D3 = MMatrixR(p13, '1'*5*11, np.eye(6))  #Delta_gamma_3_c\n",
    "D3"
   ]
  },
  {
   "cell_type": "code",
   "execution_count": 35,
   "id": "1da87d6a",
   "metadata": {},
   "outputs": [
    {
     "data": {
      "text/plain": [
       "array([[ 1., 11., 11., 11., 11., 11.],\n",
       "       [ 0.,  2.,  2.,  2.,  2.,  1.],\n",
       "       [ 0.,  8.,  9.,  0.,  0.,  0.],\n",
       "       [ 0.,  0.,  0.,  6.,  5.,  0.],\n",
       "       [ 0.,  9., 10.,  2.,  2.,  0.],\n",
       "       [ 1., 12., 12., 12., 12., 12.]])"
      ]
     },
     "execution_count": 35,
     "metadata": {},
     "output_type": "execute_result"
    }
   ],
   "source": [
    "D1@D2@D3"
   ]
  },
  {
   "cell_type": "markdown",
   "id": "7a102eeb",
   "metadata": {},
   "source": [
    "# perm_6_2"
   ]
  },
  {
   "cell_type": "code",
   "execution_count": 36,
   "id": "06deecc1",
   "metadata": {},
   "outputs": [],
   "source": [
    "p21=[\n",
    "    [1,2,3,4,5,6],\n",
    "    [6,4,3,2,5,1]\n",
    "]"
   ]
  },
  {
   "cell_type": "code",
   "execution_count": 37,
   "id": "89010389",
   "metadata": {},
   "outputs": [
    {
     "name": "stdout",
     "output_type": "stream",
     "text": [
      "[[1 2 3 4 5 6]\n",
      " [6 1 4 3 2 5]]\n"
     ]
    }
   ],
   "source": [
    "p22=MoveR(p21, '0')\n",
    "print(np.array(p22))"
   ]
  },
  {
   "cell_type": "code",
   "execution_count": 38,
   "id": "55f87603",
   "metadata": {},
   "outputs": [
    {
     "data": {
      "text/plain": [
       "array([[1., 0., 0., 0., 0., 0.],\n",
       "       [0., 1., 0., 0., 0., 0.],\n",
       "       [0., 0., 1., 0., 0., 0.],\n",
       "       [0., 0., 0., 1., 0., 0.],\n",
       "       [0., 0., 0., 0., 1., 0.],\n",
       "       [1., 0., 0., 0., 0., 1.]])"
      ]
     },
     "execution_count": 38,
     "metadata": {},
     "output_type": "execute_result"
    }
   ],
   "source": [
    "D21 = MMatrixR(p21, '0', np.eye(6)) #Delta_gamma_0\n",
    "D21"
   ]
  },
  {
   "cell_type": "code",
   "execution_count": 39,
   "id": "21855bc8",
   "metadata": {},
   "outputs": [
    {
     "name": "stdout",
     "output_type": "stream",
     "text": [
      "[[1 2 3 4 5 6]\n",
      " [6 5 1 4 3 2]]\n"
     ]
    }
   ],
   "source": [
    "p23=MoveR(p22, '10')\n",
    "print(np.array(p23))"
   ]
  },
  {
   "cell_type": "code",
   "execution_count": 40,
   "id": "7da5bf78",
   "metadata": {},
   "outputs": [
    {
     "data": {
      "text/plain": [
       "array([[1., 0., 0., 0., 0., 0.],\n",
       "       [0., 1., 0., 0., 0., 0.],\n",
       "       [0., 0., 1., 0., 0., 0.],\n",
       "       [0., 0., 0., 1., 0., 0.],\n",
       "       [0., 0., 0., 0., 2., 1.],\n",
       "       [0., 0., 0., 0., 1., 1.]])"
      ]
     },
     "execution_count": 40,
     "metadata": {},
     "output_type": "execute_result"
    }
   ],
   "source": [
    "D22 = MMatrixR(p22, '10', np.eye(6)) #Delta_gamma_1\n",
    "D22"
   ]
  },
  {
   "cell_type": "code",
   "execution_count": 41,
   "id": "347e0396",
   "metadata": {},
   "outputs": [
    {
     "name": "stdout",
     "output_type": "stream",
     "text": [
      "[[1 2 3 4 5 6]\n",
      " [6 4 3 2 5 1]]\n"
     ]
    }
   ],
   "source": [
    "p24=MoveR(p23, '110'+'1'*6+'011000')\n",
    "print(np.array(p24))"
   ]
  },
  {
   "cell_type": "code",
   "execution_count": 42,
   "id": "42151110",
   "metadata": {},
   "outputs": [
    {
     "data": {
      "text/plain": [
       "array([[1., 0., 0., 0., 0., 0.],\n",
       "       [0., 2., 2., 2., 1., 1.],\n",
       "       [0., 0., 7., 6., 0., 0.],\n",
       "       [0., 1., 2., 2., 0., 0.],\n",
       "       [0., 0., 0., 0., 1., 0.],\n",
       "       [0., 1., 1., 1., 0., 1.]])"
      ]
     },
     "execution_count": 42,
     "metadata": {},
     "output_type": "execute_result"
    }
   ],
   "source": [
    "D23 = MMatrixR(p23, '110'+'1'*6+'011000', np.eye(6)) #Delta_gamma_2_a\n",
    "D23"
   ]
  },
  {
   "cell_type": "code",
   "execution_count": 43,
   "id": "258aca48",
   "metadata": {},
   "outputs": [
    {
     "name": "stdout",
     "output_type": "stream",
     "text": [
      "[[1 2 3 4 5 6]\n",
      " [6 4 3 2 5 1]]\n"
     ]
    }
   ],
   "source": [
    "p25=MoveR(p24, '1'*5*4)\n",
    "print(np.array(p25))"
   ]
  },
  {
   "cell_type": "code",
   "execution_count": 44,
   "id": "d8981761",
   "metadata": {},
   "outputs": [
    {
     "data": {
      "text/plain": [
       "array([[1., 4., 4., 4., 4., 4.],\n",
       "       [0., 1., 0., 0., 0., 0.],\n",
       "       [0., 0., 1., 0., 0., 0.],\n",
       "       [0., 0., 0., 1., 0., 0.],\n",
       "       [0., 0., 0., 0., 1., 0.],\n",
       "       [0., 0., 0., 0., 0., 1.]])"
      ]
     },
     "execution_count": 44,
     "metadata": {},
     "output_type": "execute_result"
    }
   ],
   "source": [
    "D24 = MMatrixR(p24, '1'*5*4, np.eye(6)) #Delta_gamma_2_a\n",
    "D24"
   ]
  },
  {
   "cell_type": "code",
   "execution_count": 45,
   "id": "c0f42188",
   "metadata": {},
   "outputs": [
    {
     "data": {
      "text/plain": [
       "array([[1., 4., 4., 4., 4., 4.],\n",
       "       [0., 2., 2., 2., 1., 1.],\n",
       "       [0., 0., 7., 6., 0., 0.],\n",
       "       [0., 1., 2., 2., 0., 0.],\n",
       "       [0., 1., 1., 1., 2., 1.],\n",
       "       [1., 5., 5., 5., 5., 5.]])"
      ]
     },
     "execution_count": 45,
     "metadata": {},
     "output_type": "execute_result"
    }
   ],
   "source": [
    "D21@D22@D23@D24"
   ]
  },
  {
   "cell_type": "markdown",
   "id": "0bc68f8b",
   "metadata": {},
   "source": [
    "# perm 6_3"
   ]
  },
  {
   "cell_type": "code",
   "execution_count": 46,
   "id": "763f6185",
   "metadata": {},
   "outputs": [],
   "source": [
    "p31=[\n",
    "    [1,2,3,4,5,6],\n",
    "    [6,5,4,3,2,1]\n",
    "]"
   ]
  },
  {
   "cell_type": "code",
   "execution_count": 47,
   "id": "18b5994f",
   "metadata": {},
   "outputs": [
    {
     "name": "stdout",
     "output_type": "stream",
     "text": [
      "[[1 2 3 4 5 6]\n",
      " [6 1 5 4 3 2]]\n"
     ]
    }
   ],
   "source": [
    "p32=MoveR(p31, '0')\n",
    "print(np.array(p32))"
   ]
  },
  {
   "cell_type": "code",
   "execution_count": 48,
   "id": "5174ccf7",
   "metadata": {},
   "outputs": [
    {
     "data": {
      "text/plain": [
       "array([[1., 0., 0., 0., 0., 0.],\n",
       "       [0., 1., 0., 0., 0., 0.],\n",
       "       [0., 0., 1., 0., 0., 0.],\n",
       "       [0., 0., 0., 1., 0., 0.],\n",
       "       [0., 0., 0., 0., 1., 0.],\n",
       "       [1., 0., 0., 0., 0., 1.]])"
      ]
     },
     "execution_count": 48,
     "metadata": {},
     "output_type": "execute_result"
    }
   ],
   "source": [
    "D31 = MMatrixR(p31, '0', np.eye(6)) #Delta_gamma_0\n",
    "D31"
   ]
  },
  {
   "cell_type": "code",
   "execution_count": 49,
   "id": "5404be6a",
   "metadata": {},
   "outputs": [
    {
     "name": "stdout",
     "output_type": "stream",
     "text": [
      "[[1 2 3 4 5 6]\n",
      " [6 5 4 3 2 1]]\n"
     ]
    }
   ],
   "source": [
    "p33=MoveR(p32, '100'+'1'*5+'011'+'0'*7+'10000')\n",
    "print(np.array(p33))"
   ]
  },
  {
   "cell_type": "code",
   "execution_count": 50,
   "id": "81d628d7",
   "metadata": {},
   "outputs": [
    {
     "data": {
      "text/plain": [
       "array([[1., 0., 0., 0., 0., 0.],\n",
       "       [0., 2., 2., 2., 2., 1.],\n",
       "       [0., 7., 8., 0., 0., 0.],\n",
       "       [0., 0., 0., 4., 3., 0.],\n",
       "       [0., 8., 9., 2., 2., 0.],\n",
       "       [0., 1., 1., 1., 1., 1.]])"
      ]
     },
     "execution_count": 50,
     "metadata": {},
     "output_type": "execute_result"
    }
   ],
   "source": [
    "D32 = MMatrixR(p32, '100'+'1'*3+'011'+'0'*7+'10000', np.eye(6)) #Delta_gamma_1\n",
    "D32"
   ]
  },
  {
   "cell_type": "code",
   "execution_count": 51,
   "id": "8a1a615d",
   "metadata": {},
   "outputs": [
    {
     "name": "stdout",
     "output_type": "stream",
     "text": [
      "[[1 2 3 4 5 6]\n",
      " [6 5 4 3 2 1]]\n"
     ]
    }
   ],
   "source": [
    "p34=MoveR(p33, '1'*5*6)\n",
    "print(np.array(p34))"
   ]
  },
  {
   "cell_type": "code",
   "execution_count": 52,
   "id": "0fc761a4",
   "metadata": {},
   "outputs": [
    {
     "data": {
      "text/plain": [
       "array([[1., 6., 6., 6., 6., 6.],\n",
       "       [0., 1., 0., 0., 0., 0.],\n",
       "       [0., 0., 1., 0., 0., 0.],\n",
       "       [0., 0., 0., 1., 0., 0.],\n",
       "       [0., 0., 0., 0., 1., 0.],\n",
       "       [0., 0., 0., 0., 0., 1.]])"
      ]
     },
     "execution_count": 52,
     "metadata": {},
     "output_type": "execute_result"
    }
   ],
   "source": [
    "D33 = MMatrixR(p33, '1'*5*6, np.eye(6)) #Delta_gamma_1\n",
    "D33"
   ]
  },
  {
   "cell_type": "code",
   "execution_count": 53,
   "id": "4933df74",
   "metadata": {},
   "outputs": [
    {
     "data": {
      "text/plain": [
       "array([[1., 6., 6., 6., 6., 6.],\n",
       "       [0., 2., 2., 2., 2., 1.],\n",
       "       [0., 7., 8., 0., 0., 0.],\n",
       "       [0., 0., 0., 4., 3., 0.],\n",
       "       [0., 8., 9., 2., 2., 0.],\n",
       "       [1., 7., 7., 7., 7., 7.]])"
      ]
     },
     "execution_count": 53,
     "metadata": {},
     "output_type": "execute_result"
    }
   ],
   "source": [
    "D31@D32@D33"
   ]
  },
  {
   "cell_type": "markdown",
   "id": "b157863d",
   "metadata": {},
   "source": [
    "# perm 7_2"
   ]
  },
  {
   "cell_type": "code",
   "execution_count": 54,
   "id": "7cd22ef3",
   "metadata": {},
   "outputs": [],
   "source": [
    "p41=[\n",
    "    [1,2,3,4,5,6,7],\n",
    "    [7,4,3,2,5,6,1]\n",
    "]"
   ]
  },
  {
   "cell_type": "code",
   "execution_count": 55,
   "id": "bfcab4c0",
   "metadata": {},
   "outputs": [
    {
     "name": "stdout",
     "output_type": "stream",
     "text": [
      "[[1 2 3 4 5 6 7]\n",
      " [7 1 4 3 2 5 6]]\n"
     ]
    }
   ],
   "source": [
    "p42=MoveR(p41, '0')\n",
    "print(np.array(p42))"
   ]
  },
  {
   "cell_type": "code",
   "execution_count": 56,
   "id": "5a8ef6f4",
   "metadata": {},
   "outputs": [
    {
     "data": {
      "text/plain": [
       "array([[1., 0., 0., 0., 0., 0., 0.],\n",
       "       [0., 1., 0., 0., 0., 0., 0.],\n",
       "       [0., 0., 1., 0., 0., 0., 0.],\n",
       "       [0., 0., 0., 1., 0., 0., 0.],\n",
       "       [0., 0., 0., 0., 1., 0., 0.],\n",
       "       [0., 0., 0., 0., 0., 1., 0.],\n",
       "       [1., 0., 0., 0., 0., 0., 1.]])"
      ]
     },
     "execution_count": 56,
     "metadata": {},
     "output_type": "execute_result"
    }
   ],
   "source": [
    "D41 = MMatrixR(p41, '0', np.eye(7)) \n",
    "D41"
   ]
  },
  {
   "cell_type": "code",
   "execution_count": 57,
   "id": "9a2bc269",
   "metadata": {},
   "outputs": [
    {
     "name": "stdout",
     "output_type": "stream",
     "text": [
      "[[1 2 3 4 5 6 7]\n",
      " [7 6 1 4 3 2 5]]\n"
     ]
    }
   ],
   "source": [
    "p43=MoveR(p42, '10')\n",
    "print(np.array(p43))"
   ]
  },
  {
   "cell_type": "code",
   "execution_count": 58,
   "id": "a66cd974",
   "metadata": {},
   "outputs": [
    {
     "data": {
      "text/plain": [
       "array([[1., 0., 0., 0., 0., 0., 0.],\n",
       "       [0., 1., 0., 0., 0., 0., 0.],\n",
       "       [0., 0., 1., 0., 0., 0., 0.],\n",
       "       [0., 0., 0., 1., 0., 0., 0.],\n",
       "       [0., 0., 0., 0., 1., 0., 0.],\n",
       "       [0., 0., 0., 0., 0., 2., 1.],\n",
       "       [0., 0., 0., 0., 0., 1., 1.]])"
      ]
     },
     "execution_count": 58,
     "metadata": {},
     "output_type": "execute_result"
    }
   ],
   "source": [
    "D42 = MMatrixR(p42, '10', np.eye(7)) \n",
    "D42"
   ]
  },
  {
   "cell_type": "code",
   "execution_count": 59,
   "id": "048477ad",
   "metadata": {},
   "outputs": [
    {
     "name": "stdout",
     "output_type": "stream",
     "text": [
      "[[1 2 3 4 5 6 7]\n",
      " [7 5 6 1 4 3 2]]\n"
     ]
    }
   ],
   "source": [
    "p44=MoveR(p43, '110')\n",
    "print(np.array(p44))"
   ]
  },
  {
   "cell_type": "code",
   "execution_count": 60,
   "id": "f0d7103a",
   "metadata": {},
   "outputs": [
    {
     "data": {
      "text/plain": [
       "array([[1., 0., 0., 0., 0., 0., 0.],\n",
       "       [0., 1., 0., 0., 0., 0., 0.],\n",
       "       [0., 0., 1., 0., 0., 0., 0.],\n",
       "       [0., 0., 0., 1., 0., 0., 0.],\n",
       "       [0., 0., 0., 0., 2., 1., 1.],\n",
       "       [0., 0., 0., 0., 0., 1., 0.],\n",
       "       [0., 0., 0., 0., 1., 0., 1.]])"
      ]
     },
     "execution_count": 60,
     "metadata": {},
     "output_type": "execute_result"
    }
   ],
   "source": [
    "D43 = MMatrixR(p43, '110', np.eye(7)) \n",
    "D43"
   ]
  },
  {
   "cell_type": "code",
   "execution_count": 61,
   "id": "3e7cd0b7",
   "metadata": {},
   "outputs": [
    {
     "name": "stdout",
     "output_type": "stream",
     "text": [
      "[[1 2 3 4 5 6 7]\n",
      " [7 4 3 2 5 6 1]]\n"
     ]
    }
   ],
   "source": [
    "p45=MoveR(p44, '1110'+'1'*5+'011000')\n",
    "print(np.array(p45))"
   ]
  },
  {
   "cell_type": "code",
   "execution_count": 62,
   "id": "c3c848b6",
   "metadata": {},
   "outputs": [
    {
     "data": {
      "text/plain": [
       "array([[1., 0., 0., 0., 0., 0., 0.],\n",
       "       [0., 2., 2., 2., 1., 1., 1.],\n",
       "       [0., 0., 6., 5., 0., 0., 0.],\n",
       "       [0., 1., 2., 2., 0., 0., 0.],\n",
       "       [0., 0., 0., 0., 1., 0., 0.],\n",
       "       [0., 0., 0., 0., 0., 1., 0.],\n",
       "       [0., 1., 1., 1., 0., 0., 1.]])"
      ]
     },
     "execution_count": 62,
     "metadata": {},
     "output_type": "execute_result"
    }
   ],
   "source": [
    "D44 = MMatrixR(p44, '1110'+'1'*5+'011000', np.eye(7)) \n",
    "D44"
   ]
  },
  {
   "cell_type": "code",
   "execution_count": 63,
   "id": "24e78bd6",
   "metadata": {},
   "outputs": [
    {
     "name": "stdout",
     "output_type": "stream",
     "text": [
      "[[1 2 3 4 5 6 7]\n",
      " [7 4 3 2 5 6 1]]\n"
     ]
    }
   ],
   "source": [
    "p46=MoveR(p45, '1'*6*8)\n",
    "print(np.array(p46))"
   ]
  },
  {
   "cell_type": "code",
   "execution_count": 64,
   "id": "727edf94",
   "metadata": {},
   "outputs": [
    {
     "data": {
      "text/plain": [
       "array([[1., 8., 8., 8., 8., 8., 8.],\n",
       "       [0., 1., 0., 0., 0., 0., 0.],\n",
       "       [0., 0., 1., 0., 0., 0., 0.],\n",
       "       [0., 0., 0., 1., 0., 0., 0.],\n",
       "       [0., 0., 0., 0., 1., 0., 0.],\n",
       "       [0., 0., 0., 0., 0., 1., 0.],\n",
       "       [0., 0., 0., 0., 0., 0., 1.]])"
      ]
     },
     "execution_count": 64,
     "metadata": {},
     "output_type": "execute_result"
    }
   ],
   "source": [
    "D45 = MMatrixR(p45, '1'*6*8, np.eye(7))\n",
    "D45"
   ]
  },
  {
   "cell_type": "code",
   "execution_count": 65,
   "id": "257ffff4",
   "metadata": {},
   "outputs": [
    {
     "data": {
      "text/plain": [
       "array([[1., 8., 8., 8., 8., 8., 8.],\n",
       "       [0., 2., 2., 2., 1., 1., 1.],\n",
       "       [0., 0., 6., 5., 0., 0., 0.],\n",
       "       [0., 1., 2., 2., 0., 0., 0.],\n",
       "       [0., 1., 1., 1., 2., 1., 1.],\n",
       "       [0., 1., 1., 1., 1., 2., 1.],\n",
       "       [1., 9., 9., 9., 9., 9., 9.]])"
      ]
     },
     "execution_count": 65,
     "metadata": {},
     "output_type": "execute_result"
    }
   ],
   "source": [
    "D41@D42@D43@D44@D45"
   ]
  },
  {
   "cell_type": "markdown",
   "id": "db90711c",
   "metadata": {},
   "source": [
    "# perm_N_1"
   ]
  },
  {
   "cell_type": "code",
   "execution_count": 96,
   "id": "a6f7c432",
   "metadata": {},
   "outputs": [
    {
     "name": "stdout",
     "output_type": "stream",
     "text": [
      "[[ 1  2  3  4  5  6  7  8  9 10 11 12]\n",
      " [12  3  2  5  4  7  6  9  8 11 10  1]]\n"
     ]
    }
   ],
   "source": [
    "pn1 = permutation(\n",
    "    l=12\n",
    "    , j1=2\n",
    "    , N=[2,2,2,2,2,2])\n",
    "print(np.array(pn1))"
   ]
  },
  {
   "cell_type": "code",
   "execution_count": 97,
   "id": "0bbc6b4b",
   "metadata": {},
   "outputs": [
    {
     "name": "stdout",
     "output_type": "stream",
     "text": [
      "[[ 1  2  3  4  5  6  7  8  9 10 11 12]\n",
      " [12  1  3  2  5  4  7  6  9  8 11 10]]\n"
     ]
    }
   ],
   "source": [
    "pn2=MoveR(pn1, '0')\n",
    "print(np.array(pn2))"
   ]
  },
  {
   "cell_type": "code",
   "execution_count": 98,
   "id": "0579ff00",
   "metadata": {},
   "outputs": [
    {
     "data": {
      "text/plain": [
       "array([[1., 0., 0., 0., 0., 0., 0., 0., 0., 0., 0., 0.],\n",
       "       [0., 1., 0., 0., 0., 0., 0., 0., 0., 0., 0., 0.],\n",
       "       [0., 0., 1., 0., 0., 0., 0., 0., 0., 0., 0., 0.],\n",
       "       [0., 0., 0., 1., 0., 0., 0., 0., 0., 0., 0., 0.],\n",
       "       [0., 0., 0., 0., 1., 0., 0., 0., 0., 0., 0., 0.],\n",
       "       [0., 0., 0., 0., 0., 1., 0., 0., 0., 0., 0., 0.],\n",
       "       [0., 0., 0., 0., 0., 0., 1., 0., 0., 0., 0., 0.],\n",
       "       [0., 0., 0., 0., 0., 0., 0., 1., 0., 0., 0., 0.],\n",
       "       [0., 0., 0., 0., 0., 0., 0., 0., 1., 0., 0., 0.],\n",
       "       [0., 0., 0., 0., 0., 0., 0., 0., 0., 1., 0., 0.],\n",
       "       [0., 0., 0., 0., 0., 0., 0., 0., 0., 0., 1., 0.],\n",
       "       [1., 0., 0., 0., 0., 0., 0., 0., 0., 0., 0., 1.]])"
      ]
     },
     "execution_count": 98,
     "metadata": {},
     "output_type": "execute_result"
    }
   ],
   "source": [
    "Dn1 = MMatrixR(pn1, '0', np.eye(12)) #Delta_gamma_0\n",
    "Dn1"
   ]
  },
  {
   "cell_type": "code",
   "execution_count": 99,
   "id": "6e9ae4f2",
   "metadata": {},
   "outputs": [
    {
     "name": "stdout",
     "output_type": "stream",
     "text": [
      "[[ 1  2  3  4  5  6  7  8  9 10 11 12]\n",
      " [12 11 10  1  3  2  5  4  7  6  9  8]]\n"
     ]
    }
   ],
   "source": [
    "pn3=MoveR(pn2, '1'*1+'0'*5+'100')\n",
    "print(np.array(pn3))"
   ]
  },
  {
   "cell_type": "code",
   "execution_count": 100,
   "id": "5cb39a70",
   "metadata": {},
   "outputs": [
    {
     "data": {
      "text/plain": [
       "array([[1., 0., 0., 0., 0., 0., 0., 0., 0., 0., 0., 0.],\n",
       "       [0., 1., 0., 0., 0., 0., 0., 0., 0., 0., 0., 0.],\n",
       "       [0., 0., 1., 0., 0., 0., 0., 0., 0., 0., 0., 0.],\n",
       "       [0., 0., 0., 1., 0., 0., 0., 0., 0., 0., 0., 0.],\n",
       "       [0., 0., 0., 0., 1., 0., 0., 0., 0., 0., 0., 0.],\n",
       "       [0., 0., 0., 0., 0., 1., 0., 0., 0., 0., 0., 0.],\n",
       "       [0., 0., 0., 0., 0., 0., 1., 0., 0., 0., 0., 0.],\n",
       "       [0., 0., 0., 0., 0., 0., 0., 1., 0., 0., 0., 0.],\n",
       "       [0., 0., 0., 0., 0., 0., 0., 0., 1., 0., 0., 0.],\n",
       "       [0., 0., 0., 0., 0., 0., 0., 0., 0., 2., 2., 1.],\n",
       "       [0., 0., 0., 0., 0., 0., 0., 0., 0., 5., 6., 0.],\n",
       "       [0., 0., 0., 0., 0., 0., 0., 0., 0., 1., 1., 1.]])"
      ]
     },
     "execution_count": 100,
     "metadata": {},
     "output_type": "execute_result"
    }
   ],
   "source": [
    "Dn2 = MMatrixR(pn2, '1'*1+'0'*5+'100', np.eye(12))\n",
    "Dn2"
   ]
  },
  {
   "cell_type": "code",
   "execution_count": 103,
   "id": "2c9a72f7",
   "metadata": {},
   "outputs": [
    {
     "name": "stdout",
     "output_type": "stream",
     "text": [
      "[[ 1  2  3  4  5  6  7  8  9 10 11 12]\n",
      " [12  9  8 11 10  1  3  2  5  4  7  6]]\n"
     ]
    }
   ],
   "source": [
    "pn4=MoveR(pn3, '1'*3+'0'*5+'100')\n",
    "print(np.array(pn4))"
   ]
  },
  {
   "cell_type": "code",
   "execution_count": 104,
   "id": "5cc69525",
   "metadata": {},
   "outputs": [
    {
     "data": {
      "text/plain": [
       "array([[1., 0., 0., 0., 0., 0., 0., 0., 0., 0., 0., 0.],\n",
       "       [0., 1., 0., 0., 0., 0., 0., 0., 0., 0., 0., 0.],\n",
       "       [0., 0., 1., 0., 0., 0., 0., 0., 0., 0., 0., 0.],\n",
       "       [0., 0., 0., 1., 0., 0., 0., 0., 0., 0., 0., 0.],\n",
       "       [0., 0., 0., 0., 1., 0., 0., 0., 0., 0., 0., 0.],\n",
       "       [0., 0., 0., 0., 0., 1., 0., 0., 0., 0., 0., 0.],\n",
       "       [0., 0., 0., 0., 0., 0., 1., 0., 0., 0., 0., 0.],\n",
       "       [0., 0., 0., 0., 0., 0., 0., 2., 2., 1., 1., 1.],\n",
       "       [0., 0., 0., 0., 0., 0., 0., 5., 6., 0., 0., 0.],\n",
       "       [0., 0., 0., 0., 0., 0., 0., 0., 0., 1., 0., 0.],\n",
       "       [0., 0., 0., 0., 0., 0., 0., 0., 0., 0., 1., 0.],\n",
       "       [0., 0., 0., 0., 0., 0., 0., 1., 1., 0., 0., 1.]])"
      ]
     },
     "execution_count": 104,
     "metadata": {},
     "output_type": "execute_result"
    }
   ],
   "source": [
    "Dn3 = MMatrixR(pn3, '1'*3+'0'*5+'100', np.eye(12))\n",
    "Dn3"
   ]
  },
  {
   "cell_type": "code",
   "execution_count": 105,
   "id": "ce7de116",
   "metadata": {},
   "outputs": [
    {
     "name": "stdout",
     "output_type": "stream",
     "text": [
      "[[ 1  2  3  4  5  6  7  8  9 10 11 12]\n",
      " [12  7  6  9  8 11 10  1  3  2  5  4]]\n"
     ]
    }
   ],
   "source": [
    "pn5=MoveR(pn4, '1'*5+'0'*5+'100')\n",
    "print(np.array(pn5))"
   ]
  },
  {
   "cell_type": "code",
   "execution_count": 107,
   "id": "6826737f",
   "metadata": {},
   "outputs": [
    {
     "data": {
      "text/plain": [
       "array([[1., 0., 0., 0., 0., 0., 0., 0., 0., 0., 0., 0.],\n",
       "       [0., 1., 0., 0., 0., 0., 0., 0., 0., 0., 0., 0.],\n",
       "       [0., 0., 1., 0., 0., 0., 0., 0., 0., 0., 0., 0.],\n",
       "       [0., 0., 0., 1., 0., 0., 0., 0., 0., 0., 0., 0.],\n",
       "       [0., 0., 0., 0., 1., 0., 0., 0., 0., 0., 0., 0.],\n",
       "       [0., 0., 0., 0., 0., 2., 2., 1., 1., 1., 1., 1.],\n",
       "       [0., 0., 0., 0., 0., 5., 6., 0., 0., 0., 0., 0.],\n",
       "       [0., 0., 0., 0., 0., 0., 0., 1., 0., 0., 0., 0.],\n",
       "       [0., 0., 0., 0., 0., 0., 0., 0., 1., 0., 0., 0.],\n",
       "       [0., 0., 0., 0., 0., 0., 0., 0., 0., 1., 0., 0.],\n",
       "       [0., 0., 0., 0., 0., 0., 0., 0., 0., 0., 1., 0.],\n",
       "       [0., 0., 0., 0., 0., 1., 1., 0., 0., 0., 0., 1.]])"
      ]
     },
     "execution_count": 107,
     "metadata": {},
     "output_type": "execute_result"
    }
   ],
   "source": [
    "Dn4 = MMatrixR(pn4, '1'*5+'0'*5+'100', np.eye(12))\n",
    "Dn4"
   ]
  },
  {
   "cell_type": "code",
   "execution_count": 108,
   "id": "ce9a1ab7",
   "metadata": {},
   "outputs": [
    {
     "name": "stdout",
     "output_type": "stream",
     "text": [
      "[[ 1  2  3  4  5  6  7  8  9 10 11 12]\n",
      " [12  5  4  7  6  9  8 11 10  1  3  2]]\n"
     ]
    }
   ],
   "source": [
    "pn6=MoveR(pn5, '1'*7+'0'*5+'100')\n",
    "print(np.array(pn6))"
   ]
  },
  {
   "cell_type": "code",
   "execution_count": 109,
   "id": "e76e4faf",
   "metadata": {},
   "outputs": [
    {
     "data": {
      "text/plain": [
       "array([[1., 0., 0., 0., 0., 0., 0., 0., 0., 0., 0., 0.],\n",
       "       [0., 1., 0., 0., 0., 0., 0., 0., 0., 0., 0., 0.],\n",
       "       [0., 0., 1., 0., 0., 0., 0., 0., 0., 0., 0., 0.],\n",
       "       [0., 0., 0., 2., 2., 1., 1., 1., 1., 1., 1., 1.],\n",
       "       [0., 0., 0., 5., 6., 0., 0., 0., 0., 0., 0., 0.],\n",
       "       [0., 0., 0., 0., 0., 1., 0., 0., 0., 0., 0., 0.],\n",
       "       [0., 0., 0., 0., 0., 0., 1., 0., 0., 0., 0., 0.],\n",
       "       [0., 0., 0., 0., 0., 0., 0., 1., 0., 0., 0., 0.],\n",
       "       [0., 0., 0., 0., 0., 0., 0., 0., 1., 0., 0., 0.],\n",
       "       [0., 0., 0., 0., 0., 0., 0., 0., 0., 1., 0., 0.],\n",
       "       [0., 0., 0., 0., 0., 0., 0., 0., 0., 0., 1., 0.],\n",
       "       [0., 0., 0., 1., 1., 0., 0., 0., 0., 0., 0., 1.]])"
      ]
     },
     "execution_count": 109,
     "metadata": {},
     "output_type": "execute_result"
    }
   ],
   "source": [
    "Dn5 = MMatrixR(pn5, '1'*7+'0'*5+'100', np.eye(12))\n",
    "Dn5"
   ]
  },
  {
   "cell_type": "code",
   "execution_count": 110,
   "id": "708fc083",
   "metadata": {},
   "outputs": [
    {
     "name": "stdout",
     "output_type": "stream",
     "text": [
      "[[ 1  2  3  4  5  6  7  8  9 10 11 12]\n",
      " [12  3  2  5  4  7  6  9  8 11 10  1]]\n"
     ]
    }
   ],
   "source": [
    "pn7=MoveR(pn6, '1'*9+'0'*5+'100')\n",
    "print(np.array(pn7))"
   ]
  },
  {
   "cell_type": "code",
   "execution_count": 111,
   "id": "41aafb0f",
   "metadata": {},
   "outputs": [
    {
     "data": {
      "text/plain": [
       "array([[1., 0., 0., 0., 0., 0., 0., 0., 0., 0., 0., 0.],\n",
       "       [0., 2., 2., 1., 1., 1., 1., 1., 1., 1., 1., 1.],\n",
       "       [0., 5., 6., 0., 0., 0., 0., 0., 0., 0., 0., 0.],\n",
       "       [0., 0., 0., 1., 0., 0., 0., 0., 0., 0., 0., 0.],\n",
       "       [0., 0., 0., 0., 1., 0., 0., 0., 0., 0., 0., 0.],\n",
       "       [0., 0., 0., 0., 0., 1., 0., 0., 0., 0., 0., 0.],\n",
       "       [0., 0., 0., 0., 0., 0., 1., 0., 0., 0., 0., 0.],\n",
       "       [0., 0., 0., 0., 0., 0., 0., 1., 0., 0., 0., 0.],\n",
       "       [0., 0., 0., 0., 0., 0., 0., 0., 1., 0., 0., 0.],\n",
       "       [0., 0., 0., 0., 0., 0., 0., 0., 0., 1., 0., 0.],\n",
       "       [0., 0., 0., 0., 0., 0., 0., 0., 0., 0., 1., 0.],\n",
       "       [0., 1., 1., 0., 0., 0., 0., 0., 0., 0., 0., 1.]])"
      ]
     },
     "execution_count": 111,
     "metadata": {},
     "output_type": "execute_result"
    }
   ],
   "source": [
    "Dn6 = MMatrixR(pn6, '1'*9+'0'*5+'100', np.eye(12))\n",
    "Dn6"
   ]
  },
  {
   "cell_type": "code",
   "execution_count": 113,
   "id": "11af5de9",
   "metadata": {},
   "outputs": [
    {
     "name": "stdout",
     "output_type": "stream",
     "text": [
      "[[ 1  2  3  4  5  6  7  8  9 10 11 12]\n",
      " [12  3  2  5  4  7  6  9  8 11 10  1]]\n"
     ]
    }
   ],
   "source": [
    "pn8=MoveR(pn7, '1'*11*8)\n",
    "print(np.array(pn8))"
   ]
  },
  {
   "cell_type": "code",
   "execution_count": 114,
   "id": "c35e33b7",
   "metadata": {},
   "outputs": [
    {
     "data": {
      "text/plain": [
       "array([[1., 8., 8., 8., 8., 8., 8., 8., 8., 8., 8., 8.],\n",
       "       [0., 1., 0., 0., 0., 0., 0., 0., 0., 0., 0., 0.],\n",
       "       [0., 0., 1., 0., 0., 0., 0., 0., 0., 0., 0., 0.],\n",
       "       [0., 0., 0., 1., 0., 0., 0., 0., 0., 0., 0., 0.],\n",
       "       [0., 0., 0., 0., 1., 0., 0., 0., 0., 0., 0., 0.],\n",
       "       [0., 0., 0., 0., 0., 1., 0., 0., 0., 0., 0., 0.],\n",
       "       [0., 0., 0., 0., 0., 0., 1., 0., 0., 0., 0., 0.],\n",
       "       [0., 0., 0., 0., 0., 0., 0., 1., 0., 0., 0., 0.],\n",
       "       [0., 0., 0., 0., 0., 0., 0., 0., 1., 0., 0., 0.],\n",
       "       [0., 0., 0., 0., 0., 0., 0., 0., 0., 1., 0., 0.],\n",
       "       [0., 0., 0., 0., 0., 0., 0., 0., 0., 0., 1., 0.],\n",
       "       [0., 0., 0., 0., 0., 0., 0., 0., 0., 0., 0., 1.]])"
      ]
     },
     "execution_count": 114,
     "metadata": {},
     "output_type": "execute_result"
    }
   ],
   "source": [
    "Dn7 = MMatrixR(pn7, '1'*11*8, np.eye(12))\n",
    "Dn7"
   ]
  },
  {
   "cell_type": "code",
   "execution_count": 115,
   "id": "2dea25dd",
   "metadata": {},
   "outputs": [
    {
     "data": {
      "text/plain": [
       "array([[1., 8., 8., 8., 8., 8., 8., 8., 8., 8., 8., 8.],\n",
       "       [0., 2., 2., 1., 1., 1., 1., 1., 1., 1., 1., 1.],\n",
       "       [0., 5., 6., 0., 0., 0., 0., 0., 0., 0., 0., 0.],\n",
       "       [0., 1., 1., 2., 2., 1., 1., 1., 1., 1., 1., 1.],\n",
       "       [0., 0., 0., 5., 6., 0., 0., 0., 0., 0., 0., 0.],\n",
       "       [0., 1., 1., 1., 1., 2., 2., 1., 1., 1., 1., 1.],\n",
       "       [0., 0., 0., 0., 0., 5., 6., 0., 0., 0., 0., 0.],\n",
       "       [0., 1., 1., 1., 1., 1., 1., 2., 2., 1., 1., 1.],\n",
       "       [0., 0., 0., 0., 0., 0., 0., 5., 6., 0., 0., 0.],\n",
       "       [0., 1., 1., 1., 1., 1., 1., 1., 1., 2., 2., 1.],\n",
       "       [0., 0., 0., 0., 0., 0., 0., 0., 0., 5., 6., 0.],\n",
       "       [1., 9., 9., 9., 9., 9., 9., 9., 9., 9., 9., 9.]])"
      ]
     },
     "execution_count": 115,
     "metadata": {},
     "output_type": "execute_result"
    }
   ],
   "source": [
    "Dn1@Dn2@Dn3@Dn4@Dn5@Dn6@Dn7"
   ]
  }
 ],
 "metadata": {
  "kernelspec": {
   "display_name": "Python 3 (ipykernel)",
   "language": "python",
   "name": "python3"
  },
  "language_info": {
   "codemirror_mode": {
    "name": "ipython",
    "version": 3
   },
   "file_extension": ".py",
   "mimetype": "text/x-python",
   "name": "python",
   "nbconvert_exporter": "python",
   "pygments_lexer": "ipython3",
   "version": "3.9.7"
  }
 },
 "nbformat": 4,
 "nbformat_minor": 5
}
